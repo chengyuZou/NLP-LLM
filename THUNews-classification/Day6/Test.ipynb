{
 "cells": [
  {
   "cell_type": "code",
   "execution_count": 1,
   "id": "923bce98-58c3-45ab-83ff-eea59cc2c02d",
   "metadata": {},
   "outputs": [
    {
     "name": "stderr",
     "output_type": "stream",
     "text": [
      "[nltk_data] Downloading package wordnet to /root/nltk_data...\n",
      "[nltk_data]   Package wordnet is already up-to-date!\n",
      "[nltk_data] Downloading package omw-1.4 to /root/nltk_data...\n",
      "[nltk_data]   Package omw-1.4 is already up-to-date!\n"
     ]
    }
   ],
   "source": [
    "import random\n",
    "import nltk\n",
    "# 如果 nltk_data 目录不存在，会自动创建到用户主目录下\n",
    "nltk.download(\"wordnet\")\n",
    "nltk.download(\"omw-1.4\")\n",
    "from nltk.corpus import wordnet"
   ]
  },
  {
   "cell_type": "code",
   "execution_count": 1,
   "id": "8098c540-aa08-453a-b159-c360c1f7866a",
   "metadata": {},
   "outputs": [],
   "source": [
    "import random\n",
    "import nltk\n",
    "from nltk.corpus import wordnet\n",
    "\n",
    "def get_synonyms(word: str):\n",
    "    synsets = wordnet.synsets(word)\n",
    "    synonyms = set()\n",
    "    for syn in synsets:\n",
    "        for lemma in syn.lemmas():\n",
    "            name = lemma.name().replace(\"_\", \" \")\n",
    "            if name.lower() != word.lower():\n",
    "                synonyms.add(name)\n",
    "    return list(synonyms)\n",
    "\n",
    "def synonym_replacement(sentence: str, n: int = 1) -> str:\n",
    "    \"\"\"\n",
    "    随机选 n 个可替换的单词，用其同义词替换。\n",
    "    \"\"\"\n",
    "    words = sentence.split()\n",
    "    # 可替换词：非停用词、长度>2 且有同义词\n",
    "    candidates = [w for w in set(words) if len(get_synonyms(w)) > 0]\n",
    "    random.shuffle(candidates)\n",
    "    num_replaced = 0\n",
    "    for w in candidates:\n",
    "        syns = get_synonyms(w)\n",
    "        if syns:\n",
    "            synonym = random.choice(syns)\n",
    "            # 全文替换该词的所有出现\n",
    "            sentence = sentence.replace(w, synonym, 1)\n",
    "            num_replaced += 1\n",
    "        if num_replaced >= n:\n",
    "            break\n",
    "    return sentence\n"
   ]
  },
  {
   "cell_type": "code",
   "execution_count": 2,
   "id": "3a1fb83d-4834-4aec-962e-7337d91f3e6a",
   "metadata": {},
   "outputs": [
    {
     "name": "stdout",
     "output_type": "stream",
     "text": [
      "患者出现持续性头痛和恶心\n"
     ]
    }
   ],
   "source": [
    "text = \"患者出现持续性头痛和恶心\"\n",
    "print(synonym_replacement(text, n=3))\n",
    "# 可能输出: \"患者发生持续性头痛和作呕\"\n"
   ]
  },
  {
   "cell_type": "code",
   "execution_count": null,
   "id": "c247b1d9-d4bb-47f6-aa7c-a2087fdef114",
   "metadata": {},
   "outputs": [],
   "source": [
    "random.choice(seq)\n",
    "📌 作用：从一个序列中随机选一个元素\n",
    "import random\n",
    "items = ['apple', 'banana', 'cherry']\n",
    "print(random.choice(items))  # 输出可能是 'banana'"
   ]
  },
  {
   "cell_type": "code",
   "execution_count": null,
   "id": "702761eb-7ef4-485a-8b75-8f2c154143c9",
   "metadata": {},
   "outputs": [],
   "source": [
    "✅ random.randint(a, b)\n",
    "📌 作用：生成一个**[a, b]（闭区间）之间的随机整数**\n",
    "print(random.randint(1, 10))  # 输出 1~10 之间的整数"
   ]
  },
  {
   "cell_type": "code",
   "execution_count": null,
   "id": "d78f2762-d76c-41a2-8142-4d0bae6e0bac",
   "metadata": {},
   "outputs": [],
   "source": [
    "✅ random.sample(seq, k)\n",
    "📌 作用：从序列中随机抽取 k 个不重复元素\n",
    "nums = [1, 2, 3, 4, 5]\n",
    "print(random.sample(nums, 3))  # 例如 [2, 5, 1]"
   ]
  },
  {
   "cell_type": "code",
   "execution_count": null,
   "id": "6282cb92-b84f-473f-8224-3e24d89ab1df",
   "metadata": {},
   "outputs": [],
   "source": [
    "✅ random.random()\n",
    "📌 作用：生成一个 0 到 1 之间的浮点数"
   ]
  },
  {
   "cell_type": "code",
   "execution_count": null,
   "id": "93c8db87-be8d-458a-b886-642fc9089f40",
   "metadata": {},
   "outputs": [],
   "source": [
    "✅ 2. 另外检查 eda_augment() 中是否是按空格切词\n",
    "EDA 代码通常假设输入是英文词列表，通过空格分词：\n",
    "\n",
    "words = sentence.split()\n",
    "但对于中文，你需要使用更合适的分词器，比如 jieba：\n",
    "\n",
    "import jieba\n",
    "\n",
    "words = list(jieba.cut(sentence))\n",
    "否则 \"糖尿病患者需要监测血糖水平\" 会被认为是一个词而非多个词，结果 len(words) == 1，就会触发上面这个错误。"
   ]
  },
  {
   "cell_type": "code",
   "execution_count": 7,
   "id": "632262d8-34ab-499f-8104-f17f3dcb7747",
   "metadata": {},
   "outputs": [],
   "source": [
    "import jieba\n",
    "\n",
    "def random_deletion(words, p=0.1):\n",
    "    # 每个词以 p 的概率删除\n",
    "    if len(words) == 1:\n",
    "        return words\n",
    "    return [w for w in words if random.random() > p]\n",
    "\n",
    "def random_swap(words, n_swaps=1):\n",
    "    words = words.copy()\n",
    "    n = len(words)\n",
    "    if n <= 2:\n",
    "        return words\n",
    "    for _ in range(n_swaps):\n",
    "        i, j = random.sample(range(n), 2)\n",
    "        words[i], words[j] = words[j], words[i]\n",
    "    return words\n",
    "\n",
    "def random_insertion(words, n_insert=1):\n",
    "    new_words = words.copy()\n",
    "    for _ in range(n_insert):\n",
    "        candidates = [w for w in new_words if get_synonyms(w)]\n",
    "        if not candidates: break\n",
    "        word = random.choice(candidates)\n",
    "        synonym = random.choice(get_synonyms(word))\n",
    "        pos = random.randint(0, len(new_words))\n",
    "        new_words.insert(pos, synonym)\n",
    "    return new_words\n",
    "\n",
    "def eda_augment(sentence: str, alpha_sr=0.1, alpha_ri=0.1,\n",
    "                alpha_rs=0.1, p_rd=0.1, num_aug=1):\n",
    "    \"\"\"\n",
    "    对一句话生成 num_aug 条 EDA 增强样本\n",
    "    \"\"\"\n",
    "    words = sentence.split()\n",
    "    augmented = []\n",
    "    n_sr = max(1, int(alpha_sr * len(words)))\n",
    "    n_ri = max(1, int(alpha_ri * len(words)))\n",
    "    n_rs = max(1, int(alpha_rs * len(words)))\n",
    "\n",
    "    # 1) 同义词替换\n",
    "    a_words = synonym_replacement(sentence, n_sr).split()\n",
    "    augmented.append(\" \".join(a_words))\n",
    "    # 2) 随机插入\n",
    "    a_words = random_insertion(words, n_ri)\n",
    "    augmented.append(\" \".join(a_words))\n",
    "    # 3) 随机交换\n",
    "    a_words = random_swap(words, n_rs)\n",
    "    augmented.append(\" \".join(a_words))\n",
    "    # 4) 随机删除\n",
    "    a_words = random_deletion(words, p_rd)\n",
    "    augmented.append(\" \".join(a_words))\n",
    "\n",
    "    # 随机选 num_aug 条返回\n",
    "    random.shuffle(augmented)\n",
    "    return augmented[:num_aug]\n"
   ]
  },
  {
   "cell_type": "code",
   "execution_count": 9,
   "id": "2de1f62f-db9d-4d4a-a46c-a772a3802845",
   "metadata": {},
   "outputs": [
    {
     "name": "stdout",
     "output_type": "stream",
     "text": [
      "['masses with diabetes need to monitor their blood lolly levels', 'raze People with diabetes need to monitor their blood sugar levels']\n"
     ]
    }
   ],
   "source": [
    "print(eda_augment(\"People with diabetes need to monitor their blood sugar levels\", alpha_sr=0.2, p_rd=0.1, num_aug=2))"
   ]
  },
  {
   "cell_type": "code",
   "execution_count": null,
   "id": "c260bfc8-d164-4b80-9f80-6b02c3a56e59",
   "metadata": {},
   "outputs": [],
   "source": []
  }
 ],
 "metadata": {
  "kernelspec": {
   "display_name": "Python 3 (ipykernel)",
   "language": "python",
   "name": "python3"
  },
  "language_info": {
   "codemirror_mode": {
    "name": "ipython",
    "version": 3
   },
   "file_extension": ".py",
   "mimetype": "text/x-python",
   "name": "python",
   "nbconvert_exporter": "python",
   "pygments_lexer": "ipython3",
   "version": "3.12.3"
  }
 },
 "nbformat": 4,
 "nbformat_minor": 5
}
