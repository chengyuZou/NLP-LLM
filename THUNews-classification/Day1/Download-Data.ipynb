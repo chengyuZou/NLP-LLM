{
 "cells": [
  {
   "cell_type": "code",
   "execution_count": null,
   "id": "74e80460-2504-49d4-9fd6-607f6347538d",
   "metadata": {},
   "outputs": [],
   "source": [
    "## Step1 THUCNews 子集"
   ]
  },
  {
   "cell_type": "code",
   "execution_count": 2,
   "id": "945009c6-d3b0-41fa-92d2-46eabc2c8f9a",
   "metadata": {
    "tags": []
   },
   "outputs": [
    {
     "name": "stdout",
     "output_type": "stream",
     "text": [
      "读取 财经 类，共 37098 文件\n",
      "读取 教育 类，共 41936 文件\n",
      "读取 科技 类，共 162929 文件\n",
      "读取 娱乐 类，共 90396 文件\n",
      "读取 体育 类，共 131604 文件\n",
      "总记录数： 463962\n",
      "前几条： [{'text': '新增资金入场 沪胶强势创年内新高\\n\\u3000\\u3000记者 魏曙光\\n\\u3000\\u3000本报讯 上海天然橡胶期价周三再创年内新高，主力合约突破21000元/吨重要关口。分析师指出，由于橡胶现货需求强劲，但供应却因主产国降雨天气而紧俏。同时国内有望出台新汽车刺激方案，沪胶后市有望延续强势。\\n\\u3000\\u3000经过两个交易日的强势调整后，昨日上海天然橡胶期货价格再度大幅上扬，在收盘前1小时，大量场外资金涌入，主力1003合约强劲飙升很快升穿21000 元/吨整数关口，终盘报收于21,400元/吨，上涨2.27%，较前一日结算价上涨475元/吨，成交量为736,816手，持仓量为225,046 手。当日整体市场增仓3.4万余手。\\n\\u3000\\u3000从盘后交易所持仓来看，两大主力多头金鹏期货和成都倍特期货略微增几百手，继续保持多头前两名位置，而主力多头新湖期货增仓3344手，值得注意的是，永安期货昨日空翻多，增加多仓1837手，其多头持仓增加至7021手，而净持仓增加至1813 手；空头两大主力则继续大幅增仓，其中浙江大地增仓2522手至17294手，银河期货增仓1075手至7086手。\\n\\u3000\\u3000与此同时，东京商品交易所橡胶期货也强势上扬，基准4月合约再创13个月新高。截止北京时间昨日下午16点46分报241.5日元/公斤，较前日收盘涨3.2日元。\\n\\u3000\\u3000金鹏期货北京海鹰路营业部总经理陈旭指出，近期沪胶受资金推动持续升创年内新高，而橡胶现货需求强劲，但供应却因主产国降雨天气而紧张。同时国内有望出台新汽车刺激方案，因此沪胶后市有望延续强势。\\n\\u3000\\u3000泰国橡胶协会秘书长Prapas Euanontat16日表示，因暴雨中断生产，2009年该国橡胶产量可能下降约10%，为270万吨至280万吨。另据日本橡胶贸易协会最新数据，截至11月10日，该国天然橡胶库存较10月31日时的库存量下滑3.4%，至3902吨，创纪录新低。\\n\\u3000\\u3000据国家统计局公布的最新数据显示，9月份国内轮胎产量较2008年同期增长27%至5,810万条，较8月份增长10%。1-9月份轮胎总产量增长13%至4.814亿条。这表明在特保案发生前，中国的轮胎出口已经产生巨大的需求，特保案生效也可能不会太大地削弱市场规模。\\n\\u3000\\u3000陈旭表示，国家仍将汽车行业作为拉动经济增长的重要手段，这可能会在近期即将召开的经济会议中得到体现，中国扩大内需的方针正刺激天胶等原材料消费，引起贸易商囤积库存。不过，也有分析师表示，国内橡胶库存高企，逼近13万吨，且随着主产国降雨天气结束供应将持续增加，因此沪胶后市上行空间有限。', 'label': '财经'}, {'text': '银行系基金新军崭露头角\\n\\u3000\\u3000刚刚过去的2009年，基金市场为基民贡献了一份不错的成绩单。作为银行系基金公司的新军，民生加银基金公司旗下的两只基金崭露头角。\\n\\u3000\\u3000WIND数据统计显示，民生蓝筹混合型基金作为民生加银旗下首只基金，截至2009年底累计回报率达到23.7%。A股市场2009年下半年以来震荡剧烈，该基金提前布局消费、医药、化工、有色、煤炭等行业。2009年下半年以来，民生蓝筹基金获得了17.08%的正收益，同期业绩比较基准涨幅为8.69%，跑赢业绩比较基准达8.39个百分点。（易非）\\n\\xa0\\xa0\\xa0已有_COUNT_条评论\\xa0\\xa0我要评论', 'label': '财经'}]\n",
      "DataFrame 列名： ['text', 'label']\n",
      "✅ 已保存为 JSONL 格式\n"
     ]
    }
   ],
   "source": [
    "import os\n",
    "import glob\n",
    "import pandas as pd\n",
    "\n",
    "data_dir = \"THUCNews1\"\n",
    "selected_labels = [\"财经\", \"教育\", \"科技\", \"娱乐\", \"体育\"]\n",
    "samples_per_class = 2000\n",
    "random_seed = 42\n",
    "\n",
    "records = []\n",
    "\n",
    "for label in selected_labels:\n",
    "    class_path = os.path.join(data_dir, label)\n",
    "    txt_files = glob.glob(os.path.join(class_path, \"*.txt\"))\n",
    "\n",
    "    print(f\"读取 {label} 类，共 {len(txt_files)} 文件\")\n",
    "\n",
    "    for fp in txt_files:\n",
    "        try:\n",
    "            with open(fp, \"r\", encoding=\"utf-8\") as f:\n",
    "                text = f.read().strip()\n",
    "            if text:\n",
    "                records.append({\"text\": text, \"label\": label})\n",
    "        except Exception as e:\n",
    "            print(f\"读取失败：{fp}，错误：{e}\")\n",
    "\n",
    "print(\"总记录数：\", len(records))\n",
    "print(\"前几条：\", records[:2])\n",
    "\n",
    "# 如果 records 是空的，就报错退出\n",
    "if not records:\n",
    "    raise ValueError(\"❌ 没有读取到任何有效文本，请检查路径是否正确，以及是否是 UTF-8 编码\")\n",
    "\n",
    "df = pd.DataFrame(records)\n",
    "print(\"DataFrame 列名：\", df.columns.tolist())\n",
    "\n",
    "# 去空、去重\n",
    "df.dropna(subset=[\"text\"], inplace=True)\n",
    "df.drop_duplicates(subset=[\"text\"], inplace=True)\n",
    "\n",
    "# 每类采样\n",
    "df_sampled = (\n",
    "    df.groupby(\"label\", group_keys=False)\n",
    "      .apply(lambda x: x.sample(n=samples_per_class, random_state=random_seed))\n",
    "      .reset_index(drop=True)\n",
    ")\n",
    "\n",
    "# 保存\n",
    "df_sampled.to_json(\"THUCNews5类2000条.jsonl\", orient=\"records\", lines=True, force_ascii=False)\n",
    "print(\"✅ 已保存为 JSONL 格式\")\n"
   ]
  },
  {
   "cell_type": "code",
   "execution_count": null,
   "id": "433df067-de07-4373-9081-e9412ed60126",
   "metadata": {},
   "outputs": [],
   "source": [
    "用 SentencePiece / Byte-Pair Encoding 训练中英文混合子词\n",
    "- 对比 vocab-size 对性能的影响\t子词模型原理 & 超参调优"
   ]
  },
  {
   "cell_type": "code",
   "execution_count": null,
   "id": "b7f40872-38ec-420e-8dc0-d6d4ceda1d3f",
   "metadata": {},
   "outputs": [],
   "source": [
    "一、子词模型原理概述\n",
    "Byte-Pair Encoding (BPE)\n",
    "\n",
    "基于“最频对合并”思想，从字符级开始，迭代地将出现频率最高的相邻字符对合并为一个新符号。\n",
    "\n",
    "优点：训练速度快、易实现、对低频词有较好分割；\n",
    "\n",
    "缺点：对未知字符无内置概率，分割较“刚性”。\n",
    "\n",
    "SentencePiece（Unigram）\n",
    "\n",
    "基于概率模型（Unigram language model），先从大词表抽取候选子词，再通过 EM 算法学习每个子词的概率，删减概率较低的子词。\n",
    "\n",
    "优点：分割更灵活，可处理噪音字符；\n",
    "\n",
    "缺点：训练相对慢，对大词表敏感。\n",
    "\n",
    "中英文混合\n",
    "\n",
    "中文无需空格分词，直接按字符或 n-gram 统计；英文按普通 BPE/Unigram 处理。\n",
    "\n",
    "建议先做“预归一化”：所有字母转小写、保留数字/英文符号，中文字符按 Unicode 保留。"
   ]
  },
  {
   "cell_type": "code",
   "execution_count": 3,
   "id": "fb24098b-d7fa-4c78-b4d1-ce4e15b91149",
   "metadata": {
    "tags": []
   },
   "outputs": [],
   "source": [
    "import jsonlines \n",
    "\n",
    "with jsonlines.open(\"THUCNews5类2000条.jsonl\") as reader , open(\"all_texts.txt\" , \"w\" , encoding = \"utf-8\") as fw:\n",
    "    for obj in reader:\n",
    "        fw.write(obj[\"text\"].replace(\"\\n\" , \" \") + \"\\n\")"
   ]
  },
  {
   "cell_type": "code",
   "execution_count": null,
   "id": "07044bda-bdbe-4ecb-bc91-f441cec231ba",
   "metadata": {},
   "outputs": [],
   "source": []
  }
 ],
 "metadata": {
  "kernelspec": {
   "display_name": "Python 3 (ipykernel)",
   "language": "python",
   "name": "python3"
  },
  "language_info": {
   "codemirror_mode": {
    "name": "ipython",
    "version": 3
   },
   "file_extension": ".py",
   "mimetype": "text/x-python",
   "name": "python",
   "nbconvert_exporter": "python",
   "pygments_lexer": "ipython3",
   "version": "3.8.10"
  }
 },
 "nbformat": 4,
 "nbformat_minor": 5
}
