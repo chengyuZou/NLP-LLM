{
 "cells": [
  {
   "cell_type": "code",
   "execution_count": 1,
   "id": "24f9081d-68f3-41d5-93b0-676ee8d7c35c",
   "metadata": {
    "tags": []
   },
   "outputs": [
    {
     "name": "stdout",
     "output_type": "stream",
     "text": [
      "['text', 'label']\n"
     ]
    }
   ],
   "source": [
    "from datasets import load_dataset\n",
    "\n",
    "# 1.1 加载 JSONL 格式的数据\n",
    "# 前提：Day1 已经生成 THUCNews5类2000条.jsonl\n",
    "raw_ds = load_dataset(\"json\", data_files=\"THUCNews.jsonl\", split=\"train\")\n",
    "\n",
    "# 1.2 预览字段\n",
    "print(raw_ds.column_names)   # ['text','label']\n",
    "\n",
    "# 1.3 重命名/筛选字段（可选）\n",
    "# 如果想改成标准命名，例如 text->sentence\n",
    "# ds = raw_ds.rename_column(\"text\",\"sentence\")\n",
    "ds = raw_ds"
   ]
  },
  {
   "cell_type": "code",
   "execution_count": 11,
   "id": "05fd61de-db72-4e7b-ae37-c6d63a898d3b",
   "metadata": {
    "tags": []
   },
   "outputs": [],
   "source": [
    "label2id = {'体育': 0, '教育': 1, '娱乐': 2, '科技': 3, '财经': 4}"
   ]
  },
  {
   "cell_type": "code",
   "execution_count": 2,
   "id": "a262125b-a91b-4f89-8023-10fbe0a48440",
   "metadata": {
    "tags": []
   },
   "outputs": [],
   "source": [
    "import torch\n",
    "from torch.nn.utils.rnn import pad_sequence\n",
    "\n",
    "class CustomDataCollator:\n",
    "    \"\"\"\n",
    "    将一个 batch 的样本（字典列表）拼成模型输入：\n",
    "    - input_ids: LongTensor [B, L_max]\n",
    "    - attention_mask: LongTensor [B, L_max]\n",
    "    - labels: LongTensor [B]\n",
    "    \"\"\"\n",
    "    def __init__(self, tokenizer, max_length=512):\n",
    "        self.pad_token_id = tokenizer.pad_token_id\n",
    "        self.max_length = max_length\n",
    "\n",
    "    def __call__(self, features):\n",
    "        # features 是 List[Dict], 每个 dict 含 input_ids, label…\n",
    "        input_ids = [torch.tensor(f[\"input_ids\"]) for f in features]\n",
    "        # 1) pad 到同一长度\n",
    "        padded = pad_sequence(input_ids, batch_first=True, padding_value=self.pad_token_id)\n",
    "        # 2) attention mask\n",
    "        attention_mask = (padded != self.pad_token_id).long()\n",
    "        # 3) labels\n",
    "        labels = torch.tensor([f[\"label\"] for f in features])\n",
    "        return {\n",
    "            \"input_ids\": padded,\n",
    "            \"attention_mask\": attention_mask,\n",
    "            \"labels\": labels\n",
    "        }\n"
   ]
  },
  {
   "cell_type": "code",
   "execution_count": 12,
   "id": "95c48b90-3af0-4437-b744-37c608b61946",
   "metadata": {
    "tags": []
   },
   "outputs": [
    {
     "data": {
      "application/vnd.jupyter.widget-view+json": {
       "model_id": "0108de15d04e4d2c8c06462a5b091c63",
       "version_major": 2,
       "version_minor": 0
      },
      "text/plain": [
       "Map:   0%|          | 0/10000 [00:00<?, ? examples/s]"
      ]
     },
     "metadata": {},
     "output_type": "display_data"
    },
    {
     "name": "stdout",
     "output_type": "stream",
     "text": [
      "{'input_ids': torch.Size([16, 512]), 'attention_mask': torch.Size([16, 512]), 'labels': torch.Size([16])}\n"
     ]
    }
   ],
   "source": [
    "from transformers import PreTrainedTokenizerFast\n",
    "from torch.utils.data import DataLoader\n",
    "\n",
    "# 假设你已训练好 SentencePiece，并导出 model\n",
    "tokenizer = PreTrainedTokenizerFast(tokenizer_file=\"hf_tokenizer/tokenizer.json\")\n",
    "tokenizer.add_special_tokens({\"pad_token\": \"[PAD]\"})\n",
    "\n",
    "def tokenize_fn(ex):\n",
    "    out = tokenizer(ex[\"text\"], truncation=True, max_length=512)\n",
    "    label = label2id[ex['label']]\n",
    "    return {\"input_ids\": out[\"input_ids\"] ,\"label\" : label}\n",
    "\n",
    "# Tokenize\n",
    "tokenized_ds = ds.map(tokenize_fn, batched=False)\n",
    "\n",
    "# DataLoader\n",
    "collator = CustomDataCollator(tokenizer)\n",
    "loader = DataLoader(tokenized_ds, batch_size=16, shuffle=True, collate_fn=collator)\n",
    "\n",
    "# 取一个 batch 测试\n",
    "batch = next(iter(loader))\n",
    "print({k: v.shape for k, v in batch.items()})\n"
   ]
  },
  {
   "cell_type": "code",
   "execution_count": 13,
   "id": "c70fefde-9cf4-4723-93e1-f878b0b0a8b5",
   "metadata": {
    "tags": []
   },
   "outputs": [
    {
     "name": "stderr",
     "output_type": "stream",
     "text": [
      "huggingface/tokenizers: The current process just got forked, after parallelism has already been used. Disabling parallelism to avoid deadlocks...\n",
      "To disable this warning, you can either:\n",
      "\t- Avoid using `tokenizers` before the fork if possible\n",
      "\t- Explicitly set the environment variable TOKENIZERS_PARALLELISM=(true | false)\n",
      "huggingface/tokenizers: The current process just got forked, after parallelism has already been used. Disabling parallelism to avoid deadlocks...\n",
      "To disable this warning, you can either:\n",
      "\t- Avoid using `tokenizers` before the fork if possible\n",
      "\t- Explicitly set the environment variable TOKENIZERS_PARALLELISM=(true | false)\n"
     ]
    },
    {
     "data": {
      "image/png": "[encoded data removed]",
      "text/plain": [
       "<Figure size 640x480 with 1 Axes>"
      ]
     },
     "metadata": {},
     "output_type": "display_data"
    }
   ],
   "source": [
    "import matplotlib.pyplot as plt\n",
    "\n",
    "# 3.1 先计算每个样本的 token 长度\n",
    "lengths = [len(ids) for ids in tokenized_ds[\"input_ids\"]]\n",
    "\n",
    "# 3.2 绘制直方图\n",
    "plt.figure()\n",
    "plt.hist(lengths, bins=50)\n",
    "plt.title(\"Sample Token Length Distribution\")\n",
    "plt.xlabel(\"Token Length\")\n",
    "plt.ylabel(\"Frequency\")\n",
    "plt.grid(True)\n",
    "plt.show()\n"
   ]
  },
  {
   "cell_type": "code",
   "execution_count": 14,
   "id": "3ec5024d-a762-4989-8120-c63c7c4ca13d",
   "metadata": {
    "tags": []
   },
   "outputs": [
    {
     "name": "stderr",
     "output_type": "stream",
     "text": [
      "/tmp/ipykernel_1481/3060879890.py:22: UserWarning: Glyph 65292 (\\N{FULLWIDTH COMMA}) missing from current font.\n",
      "  plt.tight_layout()\n",
      "/tmp/ipykernel_1481/3060879890.py:22: UserWarning: Glyph 12290 (\\N{IDEOGRAPHIC FULL STOP}) missing from current font.\n",
      "  plt.tight_layout()\n",
      "/tmp/ipykernel_1481/3060879890.py:22: UserWarning: Glyph 30340 (\\N{CJK UNIFIED IDEOGRAPH-7684}) missing from current font.\n",
      "  plt.tight_layout()\n",
      "/tmp/ipykernel_1481/3060879890.py:22: UserWarning: Glyph 12289 (\\N{IDEOGRAPHIC COMMA}) missing from current font.\n",
      "  plt.tight_layout()\n",
      "/tmp/ipykernel_1481/3060879890.py:22: UserWarning: Glyph 22312 (\\N{CJK UNIFIED IDEOGRAPH-5728}) missing from current font.\n",
      "  plt.tight_layout()\n",
      "/tmp/ipykernel_1481/3060879890.py:22: UserWarning: Glyph 21644 (\\N{CJK UNIFIED IDEOGRAPH-548C}) missing from current font.\n",
      "  plt.tight_layout()\n",
      "/tmp/ipykernel_1481/3060879890.py:22: UserWarning: Glyph 65306 (\\N{FULLWIDTH COLON}) missing from current font.\n",
      "  plt.tight_layout()\n",
      "/tmp/ipykernel_1481/3060879890.py:22: UserWarning: Glyph 20102 (\\N{CJK UNIFIED IDEOGRAPH-4E86}) missing from current font.\n",
      "  plt.tight_layout()\n",
      "/tmp/ipykernel_1481/3060879890.py:22: UserWarning: Glyph 26159 (\\N{CJK UNIFIED IDEOGRAPH-662F}) missing from current font.\n",
      "  plt.tight_layout()\n",
      "/tmp/ipykernel_1481/3060879890.py:22: UserWarning: Glyph 20013 (\\N{CJK UNIFIED IDEOGRAPH-4E2D}) missing from current font.\n",
      "  plt.tight_layout()\n",
      "/tmp/ipykernel_1481/3060879890.py:22: UserWarning: Glyph 19982 (\\N{CJK UNIFIED IDEOGRAPH-4E0E}) missing from current font.\n",
      "  plt.tight_layout()\n",
      "/tmp/ipykernel_1481/3060879890.py:22: UserWarning: Glyph 20026 (\\N{CJK UNIFIED IDEOGRAPH-4E3A}) missing from current font.\n",
      "  plt.tight_layout()\n",
      "/root/miniconda3/lib/python3.8/site-packages/IPython/core/pylabtools.py:152: UserWarning: Glyph 65292 (\\N{FULLWIDTH COMMA}) missing from current font.\n",
      "  fig.canvas.print_figure(bytes_io, **kw)\n",
      "/root/miniconda3/lib/python3.8/site-packages/IPython/core/pylabtools.py:152: UserWarning: Glyph 12290 (\\N{IDEOGRAPHIC FULL STOP}) missing from current font.\n",
      "  fig.canvas.print_figure(bytes_io, **kw)\n",
      "/root/miniconda3/lib/python3.8/site-packages/IPython/core/pylabtools.py:152: UserWarning: Glyph 30340 (\\N{CJK UNIFIED IDEOGRAPH-7684}) missing from current font.\n",
      "  fig.canvas.print_figure(bytes_io, **kw)\n",
      "/root/miniconda3/lib/python3.8/site-packages/IPython/core/pylabtools.py:152: UserWarning: Glyph 12289 (\\N{IDEOGRAPHIC COMMA}) missing from current font.\n",
      "  fig.canvas.print_figure(bytes_io, **kw)\n",
      "/root/miniconda3/lib/python3.8/site-packages/IPython/core/pylabtools.py:152: UserWarning: Glyph 22312 (\\N{CJK UNIFIED IDEOGRAPH-5728}) missing from current font.\n",
      "  fig.canvas.print_figure(bytes_io, **kw)\n",
      "/root/miniconda3/lib/python3.8/site-packages/IPython/core/pylabtools.py:152: UserWarning: Glyph 21644 (\\N{CJK UNIFIED IDEOGRAPH-548C}) missing from current font.\n",
      "  fig.canvas.print_figure(bytes_io, **kw)\n",
      "/root/miniconda3/lib/python3.8/site-packages/IPython/core/pylabtools.py:152: UserWarning: Glyph 65306 (\\N{FULLWIDTH COLON}) missing from current font.\n",
      "  fig.canvas.print_figure(bytes_io, **kw)\n",
      "/root/miniconda3/lib/python3.8/site-packages/IPython/core/pylabtools.py:152: UserWarning: Glyph 20102 (\\N{CJK UNIFIED IDEOGRAPH-4E86}) missing from current font.\n",
      "  fig.canvas.print_figure(bytes_io, **kw)\n",
      "/root/miniconda3/lib/python3.8/site-packages/IPython/core/pylabtools.py:152: UserWarning: Glyph 26159 (\\N{CJK UNIFIED IDEOGRAPH-662F}) missing from current font.\n",
      "  fig.canvas.print_figure(bytes_io, **kw)\n",
      "/root/miniconda3/lib/python3.8/site-packages/IPython/core/pylabtools.py:152: UserWarning: Glyph 20013 (\\N{CJK UNIFIED IDEOGRAPH-4E2D}) missing from current font.\n",
      "  fig.canvas.print_figure(bytes_io, **kw)\n",
      "/root/miniconda3/lib/python3.8/site-packages/IPython/core/pylabtools.py:152: UserWarning: Glyph 19982 (\\N{CJK UNIFIED IDEOGRAPH-4E0E}) missing from current font.\n",
      "  fig.canvas.print_figure(bytes_io, **kw)\n",
      "/root/miniconda3/lib/python3.8/site-packages/IPython/core/pylabtools.py:152: UserWarning: Glyph 20026 (\\N{CJK UNIFIED IDEOGRAPH-4E3A}) missing from current font.\n",
      "  fig.canvas.print_figure(bytes_io, **kw)\n"
     ]
    },
    {
     "data": {
      "image/png": "[encoded data removed]",
      "text/plain": [
       "<Figure size 640x480 with 1 Axes>"
      ]
     },
     "metadata": {},
     "output_type": "display_data"
    }
   ],
   "source": [
    "from collections import Counter\n",
    "\n",
    "# 4.1 展平所有 input_ids\n",
    "all_ids = [i for ids in tokenized_ds[\"input_ids\"] for i in ids]\n",
    "\n",
    "# 4.2 统计出现频次\n",
    "counter = Counter(all_ids)\n",
    "top20 = counter.most_common(20)\n",
    "\n",
    "tokens, freqs = zip(*[\n",
    "    (tokenizer.convert_ids_to_tokens(tok_id), freq)\n",
    "    for tok_id, freq in top20\n",
    "])\n",
    "\n",
    "# 4.3 绘制柱状图\n",
    "plt.figure()\n",
    "plt.bar(range(len(tokens)), freqs)\n",
    "plt.xticks(range(len(tokens)), tokens, rotation=90)\n",
    "plt.title(\"Top 20 Token Frequency\")\n",
    "plt.xlabel(\"Token\")\n",
    "plt.ylabel(\"Frequency\")\n",
    "plt.tight_layout()\n",
    "plt.show()\n"
   ]
  },
  {
   "cell_type": "code",
   "execution_count": null,
   "id": "58654dc9-176c-41a2-a473-facd86060aea",
   "metadata": {},
   "outputs": [],
   "source": []
  }
 ],
 "metadata": {
  "kernelspec": {
   "display_name": "Python 3 (ipykernel)",
   "language": "python",
   "name": "python3"
  },
  "language_info": {
   "codemirror_mode": {
    "name": "ipython",
    "version": 3
   },
   "file_extension": ".py",
   "mimetype": "text/x-python",
   "name": "python",
   "nbconvert_exporter": "python",
   "pygments_lexer": "ipython3",
   "version": "3.12.3"
  }
 },
 "nbformat": 4,
 "nbformat_minor": 5
}
