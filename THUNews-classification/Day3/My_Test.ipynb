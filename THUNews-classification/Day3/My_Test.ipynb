{
 "cells": [
  {
   "cell_type": "code",
   "execution_count": null,
   "id": "81d3f3de-877a-40d1-ba77-374d48d0f430",
   "metadata": {},
   "outputs": [],
   "source": [
    "用 datasets 读取 JSONL"
   ]
  },
  {
   "cell_type": "code",
   "execution_count": 1,
   "id": "1397b395-937e-4dd3-b260-e9f67f2b0733",
   "metadata": {
    "tags": []
   },
   "outputs": [],
   "source": [
    "from datasets import load_dataset"
   ]
  },
  {
   "cell_type": "code",
   "execution_count": 2,
   "id": "43142969-df28-46e3-844a-9af10c1b2e61",
   "metadata": {
    "tags": []
   },
   "outputs": [],
   "source": [
    "# 读取为一个 datasets.Dataset\n",
    "raw_ds = load_dataset(\n",
    "    \"json\",\n",
    "    data_files = \"THUCNews.jsonl\",\n",
    "    split = \"train\"\n",
    ")"
   ]
  },
  {
   "cell_type": "raw",
   "id": "2a001b94-b6b0-496f-898c-a0efed25b3ba",
   "metadata": {},
   "source": [
    "封装为 PyTorch Dataset\n",
    "为了和 DataLoader 兼容，通常我们会把它包一层，添加 Tokenizer，并在 __getitem__ 里做分词"
   ]
  },
  {
   "cell_type": "code",
   "execution_count": 3,
   "id": "49b1d456-aff2-4e6f-844f-7378897e66bc",
   "metadata": {
    "tags": []
   },
   "outputs": [],
   "source": [
    "import torch\n",
    "from torch.utils.data import Dataset\n",
    "from transformers import PreTrainedTokenizerFast"
   ]
  },
  {
   "cell_type": "code",
   "execution_count": 5,
   "id": "99b88a2c-4b0c-42e9-9d21-c51ca8659ab0",
   "metadata": {
    "tags": []
   },
   "outputs": [],
   "source": [
    "class HFTextDataset(Dataset):\n",
    "    def __init__(self,  hf_dataset , tokenizer , max_length = 512):\n",
    "        self.ds = hf_dataset\n",
    "        self.tokenizer = tokenizer\n",
    "        self.max_length = max_length\n",
    "    \n",
    "    def __len__(self):\n",
    "        return len(self.ds)\n",
    "    \n",
    "    def __geitem__(self, idx):\n",
    "        item = self.ds[idx]\n",
    "        tokens = self.tokenizer(\n",
    "            item[\"text\"],\n",
    "            truncation=True,\n",
    "            max_length=self.max_length\n",
    "        )\n",
    "        \n",
    "        return {\n",
    "            \"input_ids\" : tokens['input_ids'],\n",
    "            \"label\" : item['label'] #注意不是tokens\n",
    "        }"
   ]
  },
  {
   "cell_type": "code",
   "execution_count": 7,
   "id": "7842cdcb-0a3f-4545-a635-66f077062756",
   "metadata": {
    "tags": []
   },
   "outputs": [
    {
     "data": {
      "text/plain": [
       "0"
      ]
     },
     "execution_count": 7,
     "metadata": {},
     "output_type": "execute_result"
    }
   ],
   "source": [
    "# 示例：加载 Tokenizer\n",
    "tokenizer = PreTrainedTokenizerFast(tokenizer_file=\"hf_tokenizer/tokenizer.json\")\n",
    "tokenizer.add_special_tokens({\"pad_token\": \"[PAD]\"})"
   ]
  },
  {
   "cell_type": "code",
   "execution_count": null,
   "id": "d030b215-1c38-4cd2-b626-66c6513b13b9",
   "metadata": {},
   "outputs": [],
   "source": []
  }
 ],
 "metadata": {
  "kernelspec": {
   "display_name": "Python 3 (ipykernel)",
   "language": "python",
   "name": "python3"
  },
  "language_info": {
   "codemirror_mode": {
    "name": "ipython",
    "version": 3
   },
   "file_extension": ".py",
   "mimetype": "text/x-python",
   "name": "python",
   "nbconvert_exporter": "python",
   "pygments_lexer": "ipython3",
   "version": "3.12.3"
  }
 },
 "nbformat": 4,
 "nbformat_minor": 5
}
